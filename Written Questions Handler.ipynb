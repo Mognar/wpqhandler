{
 "cells": [
  {
   "cell_type": "markdown",
   "metadata": {},
   "source": [
    "# Example of How to Allocate Written Question Tagging\n",
    "\n",
    "Written Questions are tagged by several indexers in the Parliamentary library on a daily basis, tagging Written Questions tabled the day before. On any given day, each indexer will typically be responsible for tagging all the questions directed at a particular answering body.\n",
    "\n",
    "The following script shows how work can be fairly allocated to particular individuals based on the number of questions sent to each answering body.\n",
    "\n",
    "The allocation also allows particular answering bodies to be allocated to a specific individual, or to be kept away from a particular individual.\n",
    "\n",
    "User input is required in two places:\n",
    "\n",
    "- specifying the day or period questions to be allocated correspond to; (this can be set as a default - eg *yesterday*);\n",
    "- specifying the people available and any requirements on who must or must not tag questions for particular answering bodies."
   ]
  },
  {
   "cell_type": "markdown",
   "metadata": {},
   "source": [
    "## Supporting Code Area ...  NO NEED TO READ THIS"
   ]
  },
  {
   "cell_type": "code",
   "execution_count": 16,
   "metadata": {
    "collapsed": false
   },
   "outputs": [],
   "source": [
    "#from flask import Flask\n",
    "#app = Flask(__name__)\n",
    "\n",
    "#@app.route('/')\n",
    "#def index():\n",
    "    #return render_template('index.html', variable=questionsoutput)\n",
    "#Code for loading data in from a URL\n",
    "import requests\n",
    "\n",
    "#Get data from URL\n",
    "def getURL(url,quiet=False):\n",
    "    if not quiet: print(url)\n",
    "    r=requests.get(url)\n",
    "    if not quiet: print(r.status_code)\n",
    "    return r\n",
    "\n"
   ]
  },
  {
   "cell_type": "markdown",
   "metadata": {},
   "source": [
    "#Should build a proper recursive loader\n",
    "def loader(url,quiet=True):\n",
    "    items=[]\n",
    "    done=False\n",
    "    r=getURL(url)\n",
    "    while not done:\n",
    "        items=items+r.json()['result']['items']\n",
    "        if 'next' in r.json()['result']:\n",
    "            r=getURL(r.json()['result']['next']+'&_pageSize=500')\n",
    "        else: done=True\n",
    "    return items"
   ]
  },
  {
   "cell_type": "code",
   "execution_count": 17,
   "metadata": {
    "collapsed": false
   },
   "outputs": [],
   "source": [
    "#A tabluar data analysis package that can make life easier...\n",
    "import pandas as pd\n"
   ]
  },
  {
   "cell_type": "code",
   "execution_count": 18,
   "metadata": {
    "collapsed": true
   },
   "outputs": [],
   "source": [
    "#Utilities for expressing natural time\n",
    "import datetime\n",
    "from dateutil.relativedelta import relativedelta\n",
    "\n",
    "def today(date=None,iso=False):\n",
    "    if date is None: date=datetime.date.today()\n",
    "    if iso: return date.isoformat()\n",
    "    else: return date\n",
    "\n",
    "def yesterday(date=None,iso=False):\n",
    "    if date is None: date=today()\n",
    "    yesterday = date.today() - relativedelta(days=1)\n",
    "    if iso: return yesterday.isoformat()\n",
    "    return yesterday\n",
    "\n",
    "def tomorrow(date=None,iso=False):\n",
    "    if date is None: date=today()\n",
    "    tomorrow=date.today() + relativedelta(days=1)\n",
    "    if iso: return tomorrow.isoformat()\n",
    "    return tomorrow\n",
    "\n",
    "def last_week(date=None,daterange=True,iso=False):\n",
    "    if date is None: date=today()\n",
    "    start_date = date + relativedelta(days=-date.weekday(), weeks=-1)\n",
    "    end_date = start_date + relativedelta(days=6)\n",
    "    if daterange:\n",
    "        if iso: return start_date.isoformat(),end_date.isoformat()\n",
    "        else: return start_date, end_date\n",
    "\n",
    "def this_week(date=None,daterange=True,iso=False):\n",
    "    if date is None: date=today()\n",
    "    start_date = date + relativedelta(days=-date.weekday())\n",
    "    end_date = start_date + relativedelta(days=6)\n",
    "    if daterange:\n",
    "        if iso:\n",
    "            return start_date.isoformat(), end_date.isoformat()\n",
    "        else:\n",
    "            return start_date, end_date\n",
    "    \n",
    "def next_week(date=None,daterange=True,iso=False):\n",
    "    if date is None: date=today()\n",
    "    start_date = date + relativedelta(days=-date.weekday(), weeks=1)\n",
    "    end_date = start_date + relativedelta(days=6)\n",
    "    if daterange:\n",
    "        if iso:\n",
    "            return start_date.isoformat(), end_date.isoformat()\n",
    "        else:\n",
    "            return start_date, end_date\n",
    "\n",
    "def later_this_week(date=None,incl=False,daterange=True,iso=False):\n",
    "    date=today(date)\n",
    "    start_date, end_date = this_week(date)\n",
    "    if not incl: start_date=tomorrow(date)\n",
    "    else: start_date=today(date)\n",
    "    #Really need to check if today is last day of week?\n",
    "    if daterange:\n",
    "        if iso:\n",
    "            return start_date.isoformat(), end_date.isoformat()\n",
    "        else:\n",
    "            return start_date, end_date\n",
    "        \n",
    "def earlier_this_week(date=None,incl=False,daterange=True,iso=False):\n",
    "    date=today(date)\n",
    "    start_date, end_date = this_week(date)\n",
    "    if not incl: end_date=yesterday(date)\n",
    "    else: end_date=today(date)\n",
    "    #Really need to check if today is first day of week?\n",
    "    if daterange:\n",
    "        if iso:\n",
    "            return start_date.isoformat(), end_date.isoformat()\n",
    "        else:\n",
    "            return start_date, end_date\n",
    "    \n",
    "def last_month(date=None,daterange=True,iso=False):\n",
    "    if date is None: date=today()\n",
    "    end_date = date.replace(day=1)- relativedelta(days=1)\n",
    "    start_date = end_date.replace(day=1)\n",
    "    if daterange:\n",
    "        if iso: return start_date.isoformat(),end_date.isoformat()\n",
    "        else: return start_date, end_date\n",
    "\n",
    "def next_month(date=None,daterange=True,iso=False):\n",
    "    if date is None: date=today()\n",
    "    end_date = date+ relativedelta(months=2)\n",
    "    end_date=end_date.replace(day=1)- relativedelta(days=1)\n",
    "    start_date = end_date.replace(day=1)\n",
    "    if daterange:\n",
    "        if iso: return start_date.isoformat(),end_date.isoformat()\n",
    "        else: return start_date, end_date\n",
    "\n",
    "def this_month(date=None,daterange=True,iso=False):\n",
    "    if date is None: date=today()\n",
    "    end_date = next_month(date)[0]- relativedelta(days=1)\n",
    "    start_date = end_date.replace(day=1)\n",
    "    if daterange:\n",
    "        if iso: return start_date.isoformat(),end_date.isoformat()\n",
    "        else: return start_date, end_date\n",
    "\n",
    "def earlier_this_month(date=None,incl=False,daterange=True,iso=False):\n",
    "    if date is None: date=today()\n",
    "    start_date, end_date = this_month(date)\n",
    "    if not incl: end_date=yesterday(date)\n",
    "    else: end_date=today(date)\n",
    "    #Really need to check if today is first day of month?\n",
    "    if daterange:\n",
    "        if iso:\n",
    "            return start_date.isoformat(), end_date.isoformat()\n",
    "        else:\n",
    "            return start_date, end_date\n",
    "    \n",
    "def later_this_month(date=None,incl=False,daterange=True,iso=False):\n",
    "    if date is None: date=today()\n",
    "    start_date, end_date = this_month(date)\n",
    "    if not incl: start_date=tomorrow(date)\n",
    "    else: start_date=today(date)\n",
    "    #Really need to check if today is last day of month?\n",
    "    if daterange:\n",
    "        if iso:\n",
    "            return start_date.isoformat(), end_date.isoformat()\n",
    "        else:\n",
    "            return start_date, end_date   \n",
    "\n",
    "#via http://stackoverflow.com/a/2384407/454773\n",
    "MON, TUE, WED, THU, FRI, SAT, SUN = range(7)\n",
    "def day_lastweek(day=MON,date=None,iso=False):\n",
    "    if date is None: date=today()\n",
    "    qday= last_week()[0] + relativedelta(days=day)\n",
    "    if iso: return qday.isoformat()\n",
    "    return qday\n",
    "\n",
    "def day_thisweek(day=MON,date=None,iso=False):\n",
    "    if date is None: date=today()\n",
    "    qday= this_week()[0] + relativedelta(days=day)\n",
    "    if iso: return qday.isoformat()\n",
    "    return qday\n",
    "\n",
    "def day_nextweek(day=MON,date=None,iso=False):\n",
    "    if date is None: date=today()\n",
    "    qday= next_week()[0] + relativedelta(days=day)\n",
    "    if iso: return qday.isoformat()\n",
    "    return qday"
   ]
  },
  {
   "cell_type": "code",
   "execution_count": 19,
   "metadata": {
    "collapsed": false
   },
   "outputs": [
    {
     "name": "stdout",
     "output_type": "stream",
     "text": [
      "\n",
      "last_week(iso=True):\t('2018-03-05', '2018-03-11')\n",
      "last_week(iso=True)[0]:\t2018-03-05\n",
      "last_month(iso=True):\t('2018-03-01', '2018-03-31')\n",
      "\n"
     ]
    }
   ],
   "source": [
    "#Example of using the date functions\n",
    "print('''\n",
    "last_week(iso=True):\\t{}\n",
    "last_week(iso=True)[0]:\\t{}\n",
    "last_month(iso=True):\\t{}\n",
    "'''.format(last_week(iso=True), last_week(iso=True)[0], this_month(iso=True)))"
   ]
  },
  {
   "cell_type": "markdown",
   "metadata": {},
   "source": [
    "## Identifying the Period You Want to Tag Questions For\n",
    "\n",
    "Department allocation will be based on questions asked on a particular day or since a particular date (and inclusive of that date. (We could also generalise to a period - particular week or month or Parliamentary session.)"
   ]
  },
  {
   "cell_type": "code",
   "execution_count": 20,
   "metadata": {
    "collapsed": false
   },
   "outputs": [],
   "source": [
    "PERIOD = this_month(iso=True)[0] #Last week returns the date of the first day (Monday) and last day (Sunday); pick the first\n",
    "#PERIOD = yesterday(iso=True)\n",
    "\n",
    "#If today is Monday, we maybe need a \"last working day\" or \"since last working day\".\n",
    "#One heuristic may be - if today is not Monday, use yesterday, else use last Friday\n",
    "#PERIOD= yesterday(iso=True) if today().strftime('%a')!='Mon' else day_lastweek(day=FRI,iso=True)\n",
    "\n",
    "\n",
    "#If SINCE is True, lookup questions since that date and inclusive of it\n",
    "#If SINCE is False, only lookup questions on that date\n",
    "SINCE=False"
   ]
  },
  {
   "cell_type": "markdown",
   "metadata": {},
   "source": [
    "## Generate the API URL and Load the Data"
   ]
  },
  {
   "cell_type": "markdown",
   "metadata": {
    "collapsed": false
   },
   "source": [
    "#Quick peek at the API\n",
    "\n",
    "#http://lda.data.parliament.uk/commonswrittenquestions.json?_view=Written+Questions&_pageSize=10&_page=0\n",
    "stub='http://lda.data.parliament.uk'.strip('/')\n",
    "\n",
    "if SINCE:\n",
    "    url='{}/{}.json?{}'.format(stub,'commonswrittenquestions','min-dateTabled={}'.format(PERIOD))\n",
    "else:\n",
    "    url='{}/{}.json?dateTabled={}&{}'.format(stub,'commonswrittenquestions','2017-09-14','_pageSize=500')\n",
    "\n",
    "#The API returns a list of written questions on/since the specified date\n",
    "items=loader(url)\n",
    "items[0]"
   ]
  },
  {
   "cell_type": "code",
   "execution_count": 21,
   "metadata": {
    "collapsed": false
   },
   "outputs": [
    {
     "name": "stdout",
     "output_type": "stream",
     "text": [
      "https://eqm-services.digiminster.com/writtenquestions/list?parameters.tabledWhenStart=2018-03-08\n",
      "200\n"
     ]
    },
    {
     "ename": "KeyError",
     "evalue": "'result'",
     "output_type": "error",
     "traceback": [
      "\u001b[0;31m---------------------------------------------------------------------------\u001b[0m",
      "\u001b[0;31mKeyError\u001b[0m                                  Traceback (most recent call last)",
      "\u001b[0;32m<ipython-input-21-7a82c2c3b350>\u001b[0m in \u001b[0;36m<module>\u001b[0;34m()\u001b[0m\n\u001b[1;32m      1\u001b[0m \u001b[0murl\u001b[0m\u001b[0;34m=\u001b[0m\u001b[0;34m'https://eqm-services.digiminster.com/writtenquestions/list?parameters.tabledWhenStart={}'\u001b[0m\u001b[0;34m.\u001b[0m\u001b[0mformat\u001b[0m\u001b[0;34m(\u001b[0m\u001b[0;34m'2018-03-08'\u001b[0m\u001b[0;34m)\u001b[0m\u001b[0;34m\u001b[0m\u001b[0m\n\u001b[1;32m      2\u001b[0m    \u001b[0;31m#The API returns a list of written questions on/since the specified date\u001b[0m\u001b[0;34m\u001b[0m\u001b[0;34m\u001b[0m\u001b[0m\n\u001b[0;32m----> 3\u001b[0;31m \u001b[0mitems\u001b[0m\u001b[0;34m=\u001b[0m\u001b[0mloader\u001b[0m\u001b[0;34m(\u001b[0m\u001b[0murl\u001b[0m\u001b[0;34m)\u001b[0m\u001b[0;34m\u001b[0m\u001b[0m\n\u001b[0m\u001b[1;32m      4\u001b[0m \u001b[0mitems\u001b[0m\u001b[0;34m[\u001b[0m\u001b[0;36m0\u001b[0m\u001b[0;34m]\u001b[0m\u001b[0;34m\u001b[0m\u001b[0m\n",
      "\u001b[0;32m<ipython-input-1-6752be5101de>\u001b[0m in \u001b[0;36mloader\u001b[0;34m(url, quiet)\u001b[0m\n\u001b[1;32m     21\u001b[0m     \u001b[0mr\u001b[0m\u001b[0;34m=\u001b[0m\u001b[0mgetURL\u001b[0m\u001b[0;34m(\u001b[0m\u001b[0murl\u001b[0m\u001b[0;34m)\u001b[0m\u001b[0;34m\u001b[0m\u001b[0m\n\u001b[1;32m     22\u001b[0m     \u001b[0;32mwhile\u001b[0m \u001b[0;32mnot\u001b[0m \u001b[0mdone\u001b[0m\u001b[0;34m:\u001b[0m\u001b[0;34m\u001b[0m\u001b[0m\n\u001b[0;32m---> 23\u001b[0;31m         \u001b[0mitems\u001b[0m\u001b[0;34m=\u001b[0m\u001b[0mitems\u001b[0m\u001b[0;34m+\u001b[0m\u001b[0mr\u001b[0m\u001b[0;34m.\u001b[0m\u001b[0mjson\u001b[0m\u001b[0;34m(\u001b[0m\u001b[0;34m)\u001b[0m\u001b[0;34m[\u001b[0m\u001b[0;34m'result'\u001b[0m\u001b[0;34m]\u001b[0m\u001b[0;34m[\u001b[0m\u001b[0;34m'items'\u001b[0m\u001b[0;34m]\u001b[0m\u001b[0;34m\u001b[0m\u001b[0m\n\u001b[0m\u001b[1;32m     24\u001b[0m         \u001b[0;32mif\u001b[0m \u001b[0;34m'next'\u001b[0m \u001b[0;32min\u001b[0m \u001b[0mr\u001b[0m\u001b[0;34m.\u001b[0m\u001b[0mjson\u001b[0m\u001b[0;34m(\u001b[0m\u001b[0;34m)\u001b[0m\u001b[0;34m[\u001b[0m\u001b[0;34m'result'\u001b[0m\u001b[0;34m]\u001b[0m\u001b[0;34m:\u001b[0m\u001b[0;34m\u001b[0m\u001b[0m\n\u001b[1;32m     25\u001b[0m             \u001b[0mr\u001b[0m\u001b[0;34m=\u001b[0m\u001b[0mgetURL\u001b[0m\u001b[0;34m(\u001b[0m\u001b[0mr\u001b[0m\u001b[0;34m.\u001b[0m\u001b[0mjson\u001b[0m\u001b[0;34m(\u001b[0m\u001b[0;34m)\u001b[0m\u001b[0;34m[\u001b[0m\u001b[0;34m'result'\u001b[0m\u001b[0;34m]\u001b[0m\u001b[0;34m[\u001b[0m\u001b[0;34m'next'\u001b[0m\u001b[0;34m]\u001b[0m\u001b[0;34m+\u001b[0m\u001b[0;34m'&_pageSize=500'\u001b[0m\u001b[0;34m)\u001b[0m\u001b[0;34m\u001b[0m\u001b[0m\n",
      "\u001b[0;31mKeyError\u001b[0m: 'result'"
     ]
    }
   ],
   "source": [
    "url='https://eqm-services.digiminster.com/writtenquestions/list?parameters.tabledWhenStart={}'.format('2018-03-08')\n",
    "   #The API returns a list of written questions on/since the specified date\n",
    "items=loader(url)\n",
    "items[0]"
   ]
  },
  {
   "cell_type": "markdown",
   "metadata": {},
   "source": [
    "## Count by Answering Body\n",
    "\n",
    "We can now work through the answers and identify the answering body associated with each."
   ]
  },
  {
   "cell_type": "code",
   "execution_count": null,
   "metadata": {
    "collapsed": false
   },
   "outputs": [],
   "source": [
    "def getAnsweringBody(item):\n",
    "    rel=[]\n",
    "    for body in item['AnsweringBody']:\n",
    "        key_value = item[body]\n",
    "        rel.append(key_value)\n",
    "    return rel\n",
    "    "
   ]
  },
  {
   "cell_type": "code",
   "execution_count": null,
   "metadata": {
    "collapsed": false,
    "scrolled": true
   },
   "outputs": [],
   "source": [
    "#Structurally in the API data, it may be the case that a question is directed at several Answering Bodies.\n",
    "#We could treat these as multiple separate requests requiring tagging, once for each body:\n",
    "#rels=[rel for s in [getAnsweringBody(q) for q in items] for rel in s]\n",
    "\n",
    "#Or by default we just go with the first named body\n",
    "rels=[rel for s in [getAnsweringBody(q) for q in items] for rel in s]\n",
    "\n",
    "#Also flag where there were multiple bodies?\n",
    "#multibody=[m for m in [getAnsweringBody(q)  for q in items] if len(m)>1]\n",
    "#if multibody: print(\"Some requests appear to be targeted at multiple bodies:\", m)\n",
    "\n",
    "#Display the answering body for the first few questions\n",
    "df=pd.DataFrame(rels)\n",
    "df.columns=['Answering Body']\n",
    "df"
   ]
  },
  {
   "cell_type": "markdown",
   "metadata": {},
   "source": [
    "We want to count the number of question referred to each answering body and allocate on that basis."
   ]
  },
  {
   "cell_type": "code",
   "execution_count": null,
   "metadata": {
    "collapsed": false
   },
   "outputs": [],
   "source": [
    "dfc=df.groupby('Answering Body').size().rename('Count').reset_index().sort_values('Count',ascending=False)\n",
    "#dfc.head()"
   ]
  },
  {
   "cell_type": "code",
   "execution_count": null,
   "metadata": {
    "collapsed": false
   },
   "outputs": [],
   "source": [
    "#This is a bit of utility code that helps us count how work is allocated\n",
    "#https://github.com/timdiels/chicken_turtle_util/blob/master/chicken_turtle_util/algorithms.py\n",
    "class _handler(object):\n",
    "    def __init__(self,_name):\n",
    "        self._name = _name\n",
    "        self._items = []\n",
    "        self._itemCounts = []\n",
    "        self._count_sum = 0\n",
    "        \n",
    "    def add(self, item, count):\n",
    "        self._items.append(item)\n",
    "        self._itemCounts.append((item,count))\n",
    "        self._count_sum += count\n",
    "    \n",
    "    @property\n",
    "    def name(self):\n",
    "        return self._name\n",
    "    \n",
    "    @property\n",
    "    def items(self):\n",
    "        return (self._items, self._count_sum)\n",
    "    \n",
    "    @property\n",
    "    def itemCounts(self):\n",
    "        return (self._itemCounts, self._count_sum)\n",
    "    \n",
    "    @property\n",
    "    def count_sum(self):\n",
    "        return self._count_sum"
   ]
  },
  {
   "cell_type": "markdown",
   "metadata": {},
   "source": [
    "### YOUR TURN...\n",
    "\n",
    "Who's doing the work? Are there any preferences?"
   ]
  },
  {
   "cell_type": "code",
   "execution_count": null,
   "metadata": {
    "collapsed": true
   },
   "outputs": [],
   "source": [
    "#List of names of folk doing the work\n",
    "handlers=['Clare','Ned','Jason','Bosede','Kirsty']\n",
    "\n",
    "#Are there any requirements as to whom particular targeted answering bodies will specifically be allocated to?\n",
    "handlerPrefs={}\n",
    "#We should perhaps also check that there are no collisions in prefs\n",
    "#For example, if two or more people have the same pref, randomly pick who will get it?\n",
    "\n",
    "\n",
    "#Are there any requirements as to which particular targeted answering bodies must not be allocated to a particular person?\n",
    "handlerAvoid={}\n",
    "##We should probably check that a body is not completely avoided... i.e. at least one person exists to handle it"
   ]
  },
  {
   "cell_type": "markdown",
   "metadata": {},
   "source": [
    "## From here on in, it's the machine...\n",
    "\n",
    "Allocate heuristically - sort from largest job to lowest; give next job to person with least load overall.\n",
    "\n",
    "If there are only a few questions in total, may want to allocate to a single person?"
   ]
  },
  {
   "cell_type": "code",
   "execution_count": null,
   "metadata": {
    "collapsed": false
   },
   "outputs": [],
   "source": [
    "#This bit of code handles the allocation\n",
    "handlerJobs=[_handler(h) for h in handlers]\n",
    "handled=[]\n",
    "\n",
    "#First of all, allocate according the preferences (actually, we treat these as *required* allocations)\n",
    "for handler_ in handlerJobs: \n",
    "    if handler_.name in handlerPrefs:\n",
    "        for ix,row in dfc[dfc['Answering Body'].isin(handlerPrefs[handler_.name])].iterrows():\n",
    "            #Add a start to an answering body name of the allocation was required\n",
    "            handler_.add(row['Answering Body']+'*',row['Count'])\n",
    "            handled.append(row['Answering Body'])\n",
    "\n",
    "#Allocating the work is an example of a multi-way partition problem.\n",
    "#This sort of problem can be quite hard to solve exactly, but there are heuristics\n",
    "#Eg allocate from largest job to lowest; give next job to person with least load overall\n",
    "for ix,row in dfc[~dfc['Answering Body'].isin(handled)].iterrows():\n",
    "    #Note the 'if not' tweak to the allocation so someone who wants to avoid an answering body actually does so...\n",
    "    handler_ = min(handlerJobs, key=lambda handler_: handler_._count_sum if not (handler_.name in handlerAvoid and row['Answering Body'] in handlerAvoid[handler_.name])  else float('inf')  ) \n",
    "    handler_.add(row['Answering Body'],row['Count'])\n",
    "    "
   ]
  },
  {
   "cell_type": "code",
   "execution_count": null,
   "metadata": {
    "collapsed": false
   },
   "outputs": [],
   "source": [
    "#Quick look at the results\n",
    "for h in handlerJobs:\n",
    "    print(h.name, h.itemCounts[1],h.itemCounts[0],'\\n')             \n",
    "   "
   ]
  },
  {
   "cell_type": "code",
   "execution_count": null,
   "metadata": {
    "collapsed": false
   },
   "outputs": [],
   "source": [
    "questions=[]\n",
    "#Or more prettily...\n",
    "for h in handlerJobs:\n",
    "    abtxt=''.join([' {} for the {}'.format(b[1], b[0]) for b in h.itemCounts[0]])\n",
    "    questionsoutput = '{} needs to tag {} questions:{}'.format(h.name, h.itemCounts[1],abtxt)\n",
    "    questions.append(questionsoutput)\n",
    "    "
   ]
  },
  {
   "cell_type": "code",
   "execution_count": null,
   "metadata": {
    "collapsed": false
   },
   "outputs": [],
   "source": [
    "print(questions)"
   ]
  },
  {
   "cell_type": "markdown",
   "metadata": {},
   "source": [
    "## General Reports\n",
    "\n",
    "A set of general reports. These grab data from the API and then start to display reports off the back of the data."
   ]
  },
  {
   "cell_type": "markdown",
   "metadata": {},
   "source": [
    "### Session to date\n",
    "\n",
    "Reports for the current session to date (we could probably automate the disocveru of the session text).\n",
    "\n",
    "We could also do things like:\n",
    "\n",
    "- last calendar month\n",
    "- this month to date\n",
    "- last week\n",
    "- this week to date"
   ]
  },
  {
   "cell_type": "markdown",
   "metadata": {
    "collapsed": false,
    "scrolled": true
   },
   "source": [
    "url='{}/{}.json?session={}'.format(stub,'commonswrittenquestions','2016/17')\n",
    "items=loader(url)"
   ]
  },
  {
   "cell_type": "markdown",
   "metadata": {
    "collapsed": false
   },
   "source": [
    "rels=[rel for s in [getAnsweringBody(q) for q in items] for rel in s]\n",
    "\n",
    "df=pd.DataFrame(rels)\n",
    "df.columns=['Answering Body']\n",
    "g=df.groupby('Answering Body').size().rename('Count').sort_values(ascending=True).plot(kind='barh', figsize=(20,10));"
   ]
  },
  {
   "cell_type": "markdown",
   "metadata": {},
   "source": [
    "### Last Week\n",
    "\n",
    "Example of report for last week."
   ]
  },
  {
   "cell_type": "markdown",
   "metadata": {
    "collapsed": false
   },
   "source": [
    "PERIOD_START,PERIOD_END=last_week(iso=True)\n",
    "url='{}/{}.json?{}'.format(stub,'commonswrittenquestions','min-dateTabled={}&max-dateTabled={}'.format(PERIOD_START,PERIOD_END))\n",
    "items=loader(url,quiet=False)"
   ]
  },
  {
   "cell_type": "markdown",
   "metadata": {
    "collapsed": false
   },
   "source": [
    "rels=[rel for s in [getAnsweringBody(q) for q in items] for rel in s]\n",
    "\n",
    "df=pd.DataFrame(rels)\n",
    "df.columns=['Answering Body']\n",
    "g=df.groupby('Answering Body').size().rename('Count').sort_values(ascending=True).plot(kind='barh', figsize=(20,10));"
   ]
  },
  {
   "cell_type": "code",
   "execution_count": null,
   "metadata": {
    "collapsed": false
   },
   "outputs": [],
   "source": []
  }
 ],
 "metadata": {
  "kernelspec": {
   "display_name": "Python 3",
   "language": "python",
   "name": "python3"
  },
  "language_info": {
   "codemirror_mode": {
    "name": "ipython",
    "version": 3
   },
   "file_extension": ".py",
   "mimetype": "text/x-python",
   "name": "python",
   "nbconvert_exporter": "python",
   "pygments_lexer": "ipython3",
   "version": "3.5.2"
  },
  "widgets": {
   "state": {},
   "version": "1.1.2"
  }
 },
 "nbformat": 4,
 "nbformat_minor": 2
}
